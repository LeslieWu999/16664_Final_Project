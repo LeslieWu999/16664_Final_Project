{
  "cells": [
    {
      "cell_type": "code",
      "execution_count": 1,
      "metadata": {
        "id": "obpyErWGZMyo"
      },
      "outputs": [],
      "source": [
        "import numpy as np\n",
        "import matplotlib.pyplot as plt\n",
        "import torch \n",
        "import torch.nn as nn \n",
        "import torch.nn.functional as F\n",
        "import torchvision\n",
        "from torchvision import datasets, transforms, models\n",
        "from torch.utils.data import random_split, Dataset, DataLoader\n",
        "import random \n",
        "from tqdm import tqdm \n",
        "import warnings\n",
        "import sys\n",
        "import os\n",
        "from PIL import Image"
      ]
    },
    {
      "cell_type": "code",
      "execution_count": 2,
      "metadata": {
        "colab": {
          "base_uri": "https://localhost:8080/"
        },
        "id": "niU6h2jiET_8",
        "outputId": "0484e09a-c3a4-4414-8e24-41ddcc6abe7a"
      },
      "outputs": [
        {
          "output_type": "stream",
          "name": "stdout",
          "text": [
            "Mounted at /content/drive\n"
          ]
        }
      ],
      "source": [
        "from google.colab import drive\n",
        "drive.mount('/content/drive')"
      ]
    },
    {
      "cell_type": "code",
      "source": [
        "!cp -r '/content/drive/MyDrive/trainval' '/content/trainval'\n"
      ],
      "metadata": {
        "id": "ry7UkEuIKS2T"
      },
      "execution_count": 3,
      "outputs": []
    },
    {
      "cell_type": "code",
      "source": [
        "!cp -r '/content/drive/MyDrive/test' '/content/test'"
      ],
      "metadata": {
        "id": "wxrnIlobKei4"
      },
      "execution_count": 4,
      "outputs": []
    },
    {
      "cell_type": "code",
      "execution_count": 5,
      "metadata": {
        "colab": {
          "base_uri": "https://localhost:8080/"
        },
        "id": "lOaDzS5Kn-hz",
        "outputId": "2fe35682-6590-4f9a-ede1-110d5db38b17"
      },
      "outputs": [
        {
          "output_type": "stream",
          "name": "stdout",
          "text": [
            "CUDA is found! Tranining on Tesla T4.......\n"
          ]
        }
      ],
      "source": [
        "device = torch.cuda.is_available()\n",
        "if device:  \n",
        "  print('CUDA is found! Tranining on %s.......'%torch.cuda.get_device_name(0))\n",
        "else:\n",
        "  warnings.warn('CUDA not found! Training may be slow......')"
      ]
    },
    {
      "cell_type": "code",
      "source": [
        "from glob import glob\n",
        " \n",
        "transform_train = transforms.Compose([\n",
        "    transforms.RandomRotation(30),\n",
        "    transforms.Resize((224)),\n",
        "    transforms.CenterCrop((224,224)),\n",
        "    transforms.ColorJitter(brightness=0.4, contrast=0.4, saturation=0.4, hue=0.4),\n",
        "    transforms.RandomHorizontalFlip(),\n",
        "    transforms.ToTensor(),\n",
        "    transforms.Normalize([0.485, 0.456, 0.406],[0.229, 0.224, 0.225])\n",
        "])       \n",
        "\n",
        "\n",
        "transform_test = transforms.Compose([\n",
        "    transforms.Resize((300,600)),   \n",
        "    transforms.ToTensor(),\n",
        "    transforms.Normalize([0.485, 0.456, 0.406],[0.229, 0.224, 0.225])\n",
        "])\n",
        " \n",
        " \n",
        "class MyDataset_train(Dataset):\n",
        "    def __init__(self, img_path, transform=None):\n",
        "        super(MyDataset_train, self).__init__()\n",
        "        self.root = img_path\n",
        " \n",
        "        self.txt_root = self.root + '/' + 'trainval_labels.csv'\n",
        " \n",
        "        f = open(self.txt_root, 'r')\n",
        "        data = f.readlines()\n",
        " \n",
        "        imgs = []\n",
        "        labels = []\n",
        "        for line in data[1:]:\n",
        "            line = line.rstrip()\n",
        "            word = line.split(\",\")\n",
        "            imgs.append(word[0])\n",
        " \n",
        "            labels.append(word[1])\n",
        "        self.img = imgs\n",
        "        self.label = labels\n",
        "        self.transform = transform\n",
        " \n",
        "    def __len__(self):\n",
        "        return len(self.label)\n",
        " \n",
        "    def __getitem__(self, item):\n",
        "        img = self.img[item]\n",
        "        label = self.label[item]\n",
        " \n",
        "        img = Image.open(img).convert('RGB')\n",
        " \n",
        "        img = self.transform(img)\n",
        " \n",
        "        label = np.array(label).astype(np.int64)\n",
        "        label = torch.from_numpy(label)\n",
        " \n",
        "        return img, label\n",
        "\n",
        "class MyDataset_test(Dataset):\n",
        "    def __init__(self, img_path, transform=None):\n",
        "        super(MyDataset_test, self).__init__()\n",
        "        self.root = img_path\n",
        " \n",
        "        self.txt_root = self.root + '/' + 'test_labels.csv'\n",
        " \n",
        "        f = open(self.txt_root, 'r')\n",
        "        data = f.readlines()\n",
        " \n",
        "        imgs = []\n",
        "        for line in data[1:]:\n",
        "            imgs.append(line.strip())\n",
        " \n",
        "        self.img = imgs\n",
        "\n",
        "        self.transform = transform\n",
        " \n",
        "    def __len__(self):\n",
        "        return len(self.img)\n",
        " \n",
        "    def __getitem__(self, item):\n",
        "        img = self.img[item]\n",
        "        img_name = img.split('/')[-2] + '/' + img.split('/')[-1].replace('_image.jpg', '')\n",
        "        img = Image.open(img).convert('RGB')\n",
        " \n",
        "        img = self.transform(img)\n",
        " \n",
        "        return img, img_name"
      ],
      "metadata": {
        "id": "hPCUpDBLoK3B"
      },
      "execution_count": 6,
      "outputs": []
    },
    {
      "cell_type": "code",
      "source": [
        "path_train = '/content/trainval'\n",
        "\n",
        "dataset = MyDataset_train(path_train, transform=transform_train)\n",
        "\n",
        "# val_size = int(0.1 * len(dataset))\n",
        "# train_size = len(dataset) - val_size\n",
        "# train_dataset, val_dataset = torch.utils.data.random_split(dataset, [train_size, val_size])\n",
        "\n",
        "fast_size = int(0.1 * len(dataset))\n",
        "fast_drop_size = len(dataset) - fast_size\n",
        "fast_dataset, fast_drop_dataset = torch.utils.data.random_split(dataset, [fast_size, fast_drop_size])\n",
        "\n",
        "val_size = int(0.02 * len(dataset))\n",
        "train_size = fast_size - val_size\n",
        "train_dataset, val_dataset = torch.utils.data.random_split(fast_dataset, [train_size, val_size])\n",
        "\n",
        "\n",
        "train_loader = DataLoader(train_dataset, batch_size=16, shuffle=True)\n",
        "val_loader = DataLoader(val_dataset, batch_size=16, shuffle=False)\n",
        "\n",
        "path_test = '/content/test'\n",
        "\n",
        "test_dataset = MyDataset_test(path_test, transform=transform_test)\n",
        "test_loader= DataLoader(test_dataset, batch_size=1, shuffle=False)"
      ],
      "metadata": {
        "id": "cAKu62E-kcDc"
      },
      "execution_count": 7,
      "outputs": []
    },
    {
      "cell_type": "code",
      "source": [
        "print(\"Total Train Samples: \", len(train_dataset))\n",
        "print(\"Total Validation Samples: \", len(val_dataset))\n",
        "print(\"Total Test Samples: \", len(test_dataset))"
      ],
      "metadata": {
        "colab": {
          "base_uri": "https://localhost:8080/"
        },
        "id": "YZwC1vL0H3iw",
        "outputId": "2f9b3244-5d59-4b34-84fc-b97017b07569"
      },
      "execution_count": 8,
      "outputs": [
        {
          "output_type": "stream",
          "name": "stdout",
          "text": [
            "Total Train Samples:  606\n",
            "Total Validation Samples:  151\n",
            "Total Test Samples:  2631\n"
          ]
        }
      ]
    },
    {
      "cell_type": "code",
      "source": [
        "def add(in_features, hidden_layers, out_features):\n",
        "    add = nn.Sequential()\n",
        "    layer_sizes = zip(hidden_layers[:-1], hidden_layers[1:])\n",
        "    add.add_module('fc0', nn.Linear(in_features, hidden_layers[0]))\n",
        "    add.add_module('relu0', nn.ReLU())\n",
        "    add.add_module('drop0', nn.Dropout(0.6))\n",
        "    \n",
        "    for i, (h1, h2) in enumerate(layer_sizes):\n",
        "        add.add_module('fc'+str(i+1), nn.Linear(h1, h2))\n",
        "        add.add_module('relu'+str(i+1), nn.ReLU())\n",
        "        add.add_module('drop'+str(i+1), nn.Dropout(0.5))\n",
        "        \n",
        "    add.add_module('output', nn.Linear(hidden_layers[-1], out_features))\n",
        "        \n",
        "    return add"
      ],
      "metadata": {
        "id": "2QUcwZZN8nJM"
      },
      "execution_count": 9,
      "outputs": []
    },
    {
      "cell_type": "code",
      "execution_count": 16,
      "metadata": {
        "id": "KfJseAOtgA_N"
      },
      "outputs": [],
      "source": [
        "device = \"cuda\" if torch.cuda.is_available() else \"cpu\"\n",
        "model = models.resnet18(pretrained=True)\n",
        "\n",
        "for parameter in model.parameters():\n",
        "    parameter.require_grad = False\n",
        "\n",
        "added = add(512, [1000], 3)\n",
        "model.fc = added\n",
        "\n",
        "checkpoint = torch.load('model_restnet18_fast.pth')\n",
        "model.load_state_dict(checkpoint)\n",
        "\n",
        "criterion = nn.CrossEntropyLoss()\n",
        "optimizer = torch.optim.SGD(model.parameters(), lr=0.001, momentum=0.9)\n",
        "\n",
        "model.to(device)\n",
        "\n",
        "num_epochs = 10"
      ]
    },
    {
      "cell_type": "code",
      "execution_count": 14,
      "metadata": {
        "colab": {
          "base_uri": "https://localhost:8080/"
        },
        "id": "pYHpNCnogtNQ",
        "outputId": "855e98a8-b015-42f2-e8c8-879aa3631537"
      },
      "outputs": [
        {
          "output_type": "stream",
          "name": "stderr",
          "text": [
            " 10%|█         | 1/10 [00:38<05:46, 38.52s/it]"
          ]
        },
        {
          "output_type": "stream",
          "name": "stdout",
          "text": [
            "Iteration: 50  Loss: 0.7080507874488831  Accuracy: 52.3178825378418 %\n"
          ]
        },
        {
          "output_type": "stream",
          "name": "stderr",
          "text": [
            "\r 20%|██        | 2/10 [01:25<05:47, 43.43s/it]"
          ]
        },
        {
          "output_type": "stream",
          "name": "stdout",
          "text": [
            "Iteration: 100  Loss: 1.011859655380249  Accuracy: 62.91390609741211 %\n"
          ]
        },
        {
          "output_type": "stream",
          "name": "stderr",
          "text": [
            "\r 30%|███       | 3/10 [02:14<05:21, 45.98s/it]"
          ]
        },
        {
          "output_type": "stream",
          "name": "stdout",
          "text": [
            "Iteration: 150  Loss: 0.8182286620140076  Accuracy: 60.26490020751953 %\n"
          ]
        },
        {
          "output_type": "stream",
          "name": "stderr",
          "text": [
            " 50%|█████     | 5/10 [03:39<03:37, 43.54s/it]"
          ]
        },
        {
          "output_type": "stream",
          "name": "stdout",
          "text": [
            "Iteration: 200  Loss: 0.7718336582183838  Accuracy: 68.21192169189453 %\n"
          ]
        },
        {
          "output_type": "stream",
          "name": "stderr",
          "text": [
            "\r 60%|██████    | 6/10 [04:26<02:58, 44.72s/it]"
          ]
        },
        {
          "output_type": "stream",
          "name": "stdout",
          "text": [
            "Iteration: 250  Loss: 0.7441831827163696  Accuracy: 64.23841094970703 %\n"
          ]
        },
        {
          "output_type": "stream",
          "name": "stderr",
          "text": [
            "\r 70%|███████   | 7/10 [05:14<02:17, 45.85s/it]"
          ]
        },
        {
          "output_type": "stream",
          "name": "stdout",
          "text": [
            "Iteration: 300  Loss: 0.5297276377677917  Accuracy: 63.5761604309082 %\n"
          ]
        },
        {
          "output_type": "stream",
          "name": "stderr",
          "text": [
            " 90%|█████████ | 9/10 [06:40<00:43, 43.79s/it]"
          ]
        },
        {
          "output_type": "stream",
          "name": "stdout",
          "text": [
            "Iteration: 350  Loss: 0.6990066766738892  Accuracy: 64.23841094970703 %\n"
          ]
        },
        {
          "output_type": "stream",
          "name": "stderr",
          "text": [
            "100%|██████████| 10/10 [07:27<00:00, 44.73s/it]\n"
          ]
        }
      ],
      "source": [
        "torch.manual_seed(0)\n",
        "np.random.seed(0)\n",
        "torch.cuda.manual_seed(0)\n",
        "\n",
        "count = 0\n",
        "loss_list = []\n",
        "iteration_list = []\n",
        "accuracy_list = []\n",
        "\n",
        "for epoch in tqdm(range(num_epochs)):\n",
        "    model.train()\n",
        "    for images, labels in train_loader:\n",
        "        images, labels = images.to(device), labels.to(device)\n",
        "        optimizer.zero_grad()\n",
        "        \n",
        "        outputs = model(images)\n",
        "        pred = torch.argmax(outputs, 1)\n",
        "        loss = criterion(outputs, labels)\n",
        "        loss.backward()\n",
        "        optimizer.step()\n",
        "\n",
        "        count += 1\n",
        "    \n",
        "        if count % 50 == 0:\n",
        "            model.eval()         \n",
        "            correct = 0\n",
        "            total = 0\n",
        "\n",
        "            pred = []\n",
        "            for images, labels in val_loader:\n",
        "                images, labels = images.to(device), labels.to(device)                \n",
        "                outputs = model(images)               \n",
        "                predicted = torch.argmax(outputs, 1)\n",
        "                pred.append(predicted)\n",
        "                total += len(labels)       \n",
        "                correct += (predicted == labels).sum()\n",
        "            \n",
        "            # print(pred)\n",
        "            accuracy = 100 * correct / float(total)            \n",
        "            loss_list.append(loss.item())\n",
        "            iteration_list.append(count)\n",
        "            accuracy_list.append(accuracy.item())\n",
        "        if count % 50 == 0:\n",
        "            print('Iteration: {}  Loss: {}  Accuracy: {} %'.format(count, loss.data, accuracy))\n",
        "\n",
        "torch.save(model.state_dict(), 'model.pth')"
      ]
    },
    {
      "cell_type": "code",
      "source": [
        "# import shutil\n",
        "\n",
        "# source_file_path = \"/content/model.pth\"\n",
        "# destination_folder_path = \"/content/drive/MyDrive\"\n",
        "# shutil.copy(source_file_path, destination_folder_path)"
      ],
      "metadata": {
        "id": "EtpWWU40Dzu5"
      },
      "execution_count": null,
      "outputs": []
    },
    {
      "cell_type": "code",
      "source": [
        "import csv\n",
        "\n",
        "predicted_label = []\n",
        "\n",
        "model.eval()\n",
        "name = 'results.csv'\n",
        "with open(name, 'w') as f:\n",
        "    writer = csv.writer(f, delimiter=',', lineterminator='\\n')\n",
        "    writer.writerow(['guid/image', 'label'])\n",
        "    for images, name in test_loader:\n",
        "        images = images.to(device)\n",
        "        outputs = model(images)\n",
        "        predicted = torch.argmax(outputs, 1)\n",
        "        predicted_label.append(predicted)\n",
        "        name = str(name)\n",
        "        name = name.replace('(', '')\n",
        "        name = name.replace(')', '')\n",
        "        name = name.replace(',', '')\n",
        "        name = name.replace('\\'', '')\n",
        "        writer.writerow([name, str(predicted.item())])"
      ],
      "metadata": {
        "id": "8YzBIZ28x_qE"
      },
      "execution_count": 18,
      "outputs": []
    },
    {
      "cell_type": "code",
      "source": [],
      "metadata": {
        "id": "H4iUw-UPCjs7"
      },
      "execution_count": null,
      "outputs": []
    }
  ],
  "metadata": {
    "accelerator": "GPU",
    "colab": {
      "provenance": [],
      "gpuType": "T4"
    },
    "gpuClass": "standard",
    "kernelspec": {
      "display_name": "Python 3",
      "language": "python",
      "name": "python3"
    },
    "language_info": {
      "codemirror_mode": {
        "name": "ipython",
        "version": 3
      },
      "file_extension": ".py",
      "mimetype": "text/x-python",
      "name": "python",
      "nbconvert_exporter": "python",
      "pygments_lexer": "ipython3",
      "version": "3.8.8"
    }
  },
  "nbformat": 4,
  "nbformat_minor": 0
}